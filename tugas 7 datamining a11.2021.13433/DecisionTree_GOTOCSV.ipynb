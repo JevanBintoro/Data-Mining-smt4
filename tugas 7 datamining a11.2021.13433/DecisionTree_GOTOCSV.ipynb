{
  "cells": [
    {
      "cell_type": "code",
      "execution_count": 2,
      "metadata": {
        "id": "qOjpLqqxENGj"
      },
      "outputs": [],
      "source": [
        "import numpy as np\n",
        "import pandas as pd\n",
        "from sklearn import tree"
      ]
    },
    {
      "cell_type": "code",
      "execution_count": 4,
      "metadata": {
        "colab": {
          "base_uri": "https://localhost:8080/"
        },
        "id": "vlQ1XQwbEVAe",
        "outputId": "64a854a7-9140-439f-cacb-f96707e9a3b6"
      },
      "outputs": [
        {
          "name": "stdout",
          "output_type": "stream",
          "text": [
            "           Date       Open       High        Low      Close  Buy\n",
            "0    04/11/2022  400000000  416000000  372000000  382000000   No\n",
            "1    04/12/2022  422000000  442000000  360000000  370000000   No\n",
            "2     4/13/2022  370000000  380000000  360000000  374000000  Yes\n",
            "3     4/14/2022  374000000  382000000  374000000  376000000  Yes\n",
            "4     4/18/2022  376000000  380000000  370000000  378000000  Yes\n",
            "..          ...        ...        ...        ...        ...  ...\n",
            "230   3/15/2023  124000000  125000000  119000000  121000000   No\n",
            "231   3/16/2023  121000000  121000000  116000000  117000000   No\n",
            "232   3/17/2023  119000000  121000000  113000000  116000000   No\n",
            "233   3/20/2023  115000000  116000000  108000000  108000000   No\n",
            "234   3/21/2023  105000000  111000000  103000000  110000000  Yes\n",
            "\n",
            "[235 rows x 6 columns]\n"
          ]
        }
      ],
      "source": [
        "gotoDataset = pd.read_csv('data_decision_tree.csv', delimiter = ';', header = 0)\n",
        "print(gotoDataset)"
      ]
    },
    {
      "cell_type": "code",
      "execution_count": 5,
      "metadata": {
        "id": "XEXTca4jGb2i"
      },
      "outputs": [
        {
          "data": {
            "text/html": [
              "<div>\n",
              "<style scoped>\n",
              "    .dataframe tbody tr th:only-of-type {\n",
              "        vertical-align: middle;\n",
              "    }\n",
              "\n",
              "    .dataframe tbody tr th {\n",
              "        vertical-align: top;\n",
              "    }\n",
              "\n",
              "    .dataframe thead th {\n",
              "        text-align: right;\n",
              "    }\n",
              "</style>\n",
              "<table border=\"1\" class=\"dataframe\">\n",
              "  <thead>\n",
              "    <tr style=\"text-align: right;\">\n",
              "      <th></th>\n",
              "      <th>Date</th>\n",
              "      <th>Open</th>\n",
              "      <th>High</th>\n",
              "      <th>Low</th>\n",
              "      <th>Close</th>\n",
              "      <th>Buy</th>\n",
              "    </tr>\n",
              "  </thead>\n",
              "  <tbody>\n",
              "    <tr>\n",
              "      <th>0</th>\n",
              "      <td>04/11/2022</td>\n",
              "      <td>400000000</td>\n",
              "      <td>416000000</td>\n",
              "      <td>372000000</td>\n",
              "      <td>382000000</td>\n",
              "      <td>No</td>\n",
              "    </tr>\n",
              "    <tr>\n",
              "      <th>1</th>\n",
              "      <td>04/12/2022</td>\n",
              "      <td>422000000</td>\n",
              "      <td>442000000</td>\n",
              "      <td>360000000</td>\n",
              "      <td>370000000</td>\n",
              "      <td>No</td>\n",
              "    </tr>\n",
              "    <tr>\n",
              "      <th>2</th>\n",
              "      <td>4/13/2022</td>\n",
              "      <td>370000000</td>\n",
              "      <td>380000000</td>\n",
              "      <td>360000000</td>\n",
              "      <td>374000000</td>\n",
              "      <td>Yes</td>\n",
              "    </tr>\n",
              "    <tr>\n",
              "      <th>3</th>\n",
              "      <td>4/14/2022</td>\n",
              "      <td>374000000</td>\n",
              "      <td>382000000</td>\n",
              "      <td>374000000</td>\n",
              "      <td>376000000</td>\n",
              "      <td>Yes</td>\n",
              "    </tr>\n",
              "    <tr>\n",
              "      <th>4</th>\n",
              "      <td>4/18/2022</td>\n",
              "      <td>376000000</td>\n",
              "      <td>380000000</td>\n",
              "      <td>370000000</td>\n",
              "      <td>378000000</td>\n",
              "      <td>Yes</td>\n",
              "    </tr>\n",
              "  </tbody>\n",
              "</table>\n",
              "</div>"
            ],
            "text/plain": [
              "         Date       Open       High        Low      Close  Buy\n",
              "0  04/11/2022  400000000  416000000  372000000  382000000   No\n",
              "1  04/12/2022  422000000  442000000  360000000  370000000   No\n",
              "2   4/13/2022  370000000  380000000  360000000  374000000  Yes\n",
              "3   4/14/2022  374000000  382000000  374000000  376000000  Yes\n",
              "4   4/18/2022  376000000  380000000  370000000  378000000  Yes"
            ]
          },
          "execution_count": 5,
          "metadata": {},
          "output_type": "execute_result"
        }
      ],
      "source": [
        "gotoDataset.head()"
      ]
    },
    {
      "cell_type": "code",
      "execution_count": 6,
      "metadata": {
        "colab": {
          "base_uri": "https://localhost:8080/",
          "height": 206
        },
        "id": "aZIda2_iGzX7",
        "outputId": "2864e6a1-30d8-495b-e69e-c781a3e9eccd"
      },
      "outputs": [
        {
          "data": {
            "text/html": [
              "<div>\n",
              "<style scoped>\n",
              "    .dataframe tbody tr th:only-of-type {\n",
              "        vertical-align: middle;\n",
              "    }\n",
              "\n",
              "    .dataframe tbody tr th {\n",
              "        vertical-align: top;\n",
              "    }\n",
              "\n",
              "    .dataframe thead th {\n",
              "        text-align: right;\n",
              "    }\n",
              "</style>\n",
              "<table border=\"1\" class=\"dataframe\">\n",
              "  <thead>\n",
              "    <tr style=\"text-align: right;\">\n",
              "      <th></th>\n",
              "      <th>Date</th>\n",
              "      <th>Open</th>\n",
              "      <th>High</th>\n",
              "      <th>Low</th>\n",
              "      <th>Close</th>\n",
              "      <th>Buy</th>\n",
              "    </tr>\n",
              "  </thead>\n",
              "  <tbody>\n",
              "    <tr>\n",
              "      <th>0</th>\n",
              "      <td>04/11/2022</td>\n",
              "      <td>400000000</td>\n",
              "      <td>416000000</td>\n",
              "      <td>372000000</td>\n",
              "      <td>382000000</td>\n",
              "      <td>0</td>\n",
              "    </tr>\n",
              "    <tr>\n",
              "      <th>1</th>\n",
              "      <td>04/12/2022</td>\n",
              "      <td>422000000</td>\n",
              "      <td>442000000</td>\n",
              "      <td>360000000</td>\n",
              "      <td>370000000</td>\n",
              "      <td>0</td>\n",
              "    </tr>\n",
              "    <tr>\n",
              "      <th>2</th>\n",
              "      <td>4/13/2022</td>\n",
              "      <td>370000000</td>\n",
              "      <td>380000000</td>\n",
              "      <td>360000000</td>\n",
              "      <td>374000000</td>\n",
              "      <td>1</td>\n",
              "    </tr>\n",
              "    <tr>\n",
              "      <th>3</th>\n",
              "      <td>4/14/2022</td>\n",
              "      <td>374000000</td>\n",
              "      <td>382000000</td>\n",
              "      <td>374000000</td>\n",
              "      <td>376000000</td>\n",
              "      <td>1</td>\n",
              "    </tr>\n",
              "    <tr>\n",
              "      <th>4</th>\n",
              "      <td>4/18/2022</td>\n",
              "      <td>376000000</td>\n",
              "      <td>380000000</td>\n",
              "      <td>370000000</td>\n",
              "      <td>378000000</td>\n",
              "      <td>1</td>\n",
              "    </tr>\n",
              "  </tbody>\n",
              "</table>\n",
              "</div>"
            ],
            "text/plain": [
              "         Date       Open       High        Low      Close  Buy\n",
              "0  04/11/2022  400000000  416000000  372000000  382000000    0\n",
              "1  04/12/2022  422000000  442000000  360000000  370000000    0\n",
              "2   4/13/2022  370000000  380000000  360000000  374000000    1\n",
              "3   4/14/2022  374000000  382000000  374000000  376000000    1\n",
              "4   4/18/2022  376000000  380000000  370000000  378000000    1"
            ]
          },
          "execution_count": 6,
          "metadata": {},
          "output_type": "execute_result"
        }
      ],
      "source": [
        "gotoDataset[\"Buy\"] = pd.factorize(gotoDataset.Buy)[0]\n",
        "gotoDataset.head()"
      ]
    },
    {
      "cell_type": "code",
      "execution_count": 7,
      "metadata": {
        "id": "Ag7x3LFmHcTo"
      },
      "outputs": [],
      "source": [
        "gotoDataset = gotoDataset.drop(labels=\"Date\", axis=1)"
      ]
    },
    {
      "cell_type": "code",
      "execution_count": 8,
      "metadata": {
        "id": "8XWccbypIWt_"
      },
      "outputs": [],
      "source": [
        "gotoDataset = gotoDataset.to_numpy()"
      ]
    },
    {
      "cell_type": "code",
      "execution_count": 9,
      "metadata": {
        "id": "IDRlNMLMIm7e"
      },
      "outputs": [],
      "source": [
        "dataTraining = np.concatenate((gotoDataset[0:40, :], gotoDataset[50:90, :]), axis=0)\n",
        "dataTesting = np.concatenate((gotoDataset[40:50, :], gotoDataset[90:100, :]), axis=0)"
      ]
    },
    {
      "cell_type": "code",
      "execution_count": 10,
      "metadata": {
        "id": "1KYB1apxJnJy"
      },
      "outputs": [],
      "source": [
        "inputTraining = dataTraining[:,0:4]\n",
        "inputTesting = dataTesting[:, 0:4]\n",
        "labelTraining = dataTraining[:, 4]\n",
        "labelTesting = dataTesting[:, 4]"
      ]
    },
    {
      "cell_type": "code",
      "execution_count": 11,
      "metadata": {
        "id": "1GLKFdUlJTWb"
      },
      "outputs": [],
      "source": [
        "model = tree.DecisionTreeClassifier()"
      ]
    },
    {
      "cell_type": "code",
      "execution_count": 12,
      "metadata": {
        "id": "q_mi9ti7Jhc6"
      },
      "outputs": [],
      "source": [
        "model = model.fit(inputTraining, labelTraining)"
      ]
    },
    {
      "cell_type": "code",
      "execution_count": 13,
      "metadata": {
        "colab": {
          "base_uri": "https://localhost:8080/"
        },
        "id": "hfdGhgvOJ3bQ",
        "outputId": "2a442c96-8f7f-4317-9eef-84889e792f6a"
      },
      "outputs": [
        {
          "name": "stdout",
          "output_type": "stream",
          "text": [
            "Label Sebenarnya :  [1 1 0 0 1 0 0 1 0 0 1 0 0 0 0 0 0 0 0 0]\n",
            "Hasil Prediksi :  [0 1 1 1 1 0 0 1 1 0 1 0 0 0 1 1 1 1 0 0]\n"
          ]
        }
      ],
      "source": [
        "hasilPrediksi = model.predict(inputTesting)\n",
        "print(\"Label Sebenarnya : \", labelTesting)\n",
        "print(\"Hasil Prediksi : \", hasilPrediksi)"
      ]
    },
    {
      "cell_type": "code",
      "execution_count": 14,
      "metadata": {
        "colab": {
          "base_uri": "https://localhost:8080/"
        },
        "id": "Ii613vafKF7M",
        "outputId": "0faea837-3c38-4c25-e1ce-ca9e07b6b244"
      },
      "outputs": [
        {
          "name": "stdout",
          "output_type": "stream",
          "text": [
            "Prediksi Benar :  12 data\n",
            "Prediksi Salah :  8 data\n",
            "akurasi :  60.0 %\n"
          ]
        }
      ],
      "source": [
        "prediksiBenar = (hasilPrediksi == labelTesting).sum()\n",
        "prediksiSalah = (hasilPrediksi != labelTesting).sum()\n",
        "print(\"Prediksi Benar : \", prediksiBenar, \"data\")\n",
        "print(\"Prediksi Salah : \", prediksiSalah, \"data\")\n",
        "print(\"akurasi : \", prediksiBenar/(prediksiBenar+prediksiSalah) * 100, \"%\")"
      ]
    }
  ],
  "metadata": {
    "colab": {
      "provenance": []
    },
    "kernelspec": {
      "display_name": "Python 3",
      "name": "python3"
    },
    "language_info": {
      "codemirror_mode": {
        "name": "ipython",
        "version": 3
      },
      "file_extension": ".py",
      "mimetype": "text/x-python",
      "name": "python",
      "nbconvert_exporter": "python",
      "pygments_lexer": "ipython3",
      "version": "3.11.2"
    }
  },
  "nbformat": 4,
  "nbformat_minor": 0
}
